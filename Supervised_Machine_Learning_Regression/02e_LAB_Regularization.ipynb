{
  "metadata": {
    "kernelspec": {
      "name": "python",
      "display_name": "Python (Pyodide)",
      "language": "python"
    },
    "language_info": {
      "codemirror_mode": {
        "name": "python",
        "version": 3
      },
      "file_extension": ".py",
      "mimetype": "text/x-python",
      "name": "python",
      "nbconvert_exporter": "python",
      "pygments_lexer": "ipython3",
      "version": "3.8"
    },
    "prev_pub_hash": "4a699689ee3af23b03232f8daf921575c4299c1174ad5e79bf87b846e12818cf"
  },
  "nbformat_minor": 4,
  "nbformat": 4,
  "cells": [
    {
      "cell_type": "markdown",
      "source": "# Machine Learning Foundation\n\n## Section 2, Part e: Regularization LAB\n",
      "metadata": {}
    },
    {
      "cell_type": "markdown",
      "source": "## Learning objectives\n\nBy the end of this lesson, you will be able to:\n\n*   Implement data standardization\n*   Implement variants of regularized regression\n*   Combine data standardization with the train-test split procedure\n*   Implement regularization to prevent overfitting in regression problems\n",
      "metadata": {}
    },
    {
      "cell_type": "code",
      "source": "import piplite\nawait piplite.install(['tqdm', 'seaborn', 'pandas', 'numpy'])",
      "metadata": {
        "trusted": true
      },
      "outputs": [],
      "execution_count": 1
    },
    {
      "cell_type": "code",
      "source": "import numpy as np\nimport pandas as pd\nimport matplotlib.pyplot as plt\n%matplotlib inline\n\n\n# Surpress warnings:\ndef warn(*args, **kwargs):\n    pass\nimport warnings\nwarnings.warn = warn\n\nnp.set_printoptions(precision=3, suppress=True)",
      "metadata": {
        "trusted": true
      },
      "outputs": [],
      "execution_count": 2
    },
    {
      "cell_type": "markdown",
      "source": "In the following cell we load the data and define some useful plotting functions.\n",
      "metadata": {}
    },
    {
      "cell_type": "code",
      "source": "np.random.seed(72018)\n\nfrom sklearn.datasets import load_boston\n\ndef to_2d(array):\n    return array.reshape(array.shape[0], -1)\n\n\n    \ndef plot_exponential_data():\n    data = np.exp(np.random.normal(size=1000))\n    plt.hist(data)\n    plt.show()\n    return data\n    \ndef plot_square_normal_data():\n    data = np.square(np.random.normal(loc=5, size=1000))\n    plt.hist(data)\n    plt.show()\n    return data",
      "metadata": {
        "trusted": true
      },
      "outputs": [
        {
          "ename": "<class 'ImportError'>",
          "evalue": "\n`load_boston` has been removed from scikit-learn since version 1.2.\n\nThe Boston housing prices dataset has an ethical problem: as\ninvestigated in [1], the authors of this dataset engineered a\nnon-invertible variable \"B\" assuming that racial self-segregation had a\npositive impact on house prices [2]. Furthermore the goal of the\nresearch that led to the creation of this dataset was to study the\nimpact of air quality but it did not give adequate demonstration of the\nvalidity of this assumption.\n\nThe scikit-learn maintainers therefore strongly discourage the use of\nthis dataset unless the purpose of the code is to study and educate\nabout ethical issues in data science and machine learning.\n\nIn this special case, you can fetch the dataset from the original\nsource::\n\n    import pandas as pd\n    import numpy as np\n\n    data_url = \"http://lib.stat.cmu.edu/datasets/boston\"\n    raw_df = pd.read_csv(data_url, sep=\"\\s+\", skiprows=22, header=None)\n    data = np.hstack([raw_df.values[::2, :], raw_df.values[1::2, :2]])\n    target = raw_df.values[1::2, 2]\n\nAlternative datasets include the California housing dataset and the\nAmes housing dataset. You can load the datasets as follows::\n\n    from sklearn.datasets import fetch_california_housing\n    housing = fetch_california_housing()\n\nfor the California housing dataset and::\n\n    from sklearn.datasets import fetch_openml\n    housing = fetch_openml(name=\"house_prices\", as_frame=True)\n\nfor the Ames housing dataset.\n\n[1] M Carlisle.\n\"Racist data destruction?\"\n<https://medium.com/@docintangible/racist-data-destruction-113e3eff54a8>\n\n[2] Harrison Jr, David, and Daniel L. Rubinfeld.\n\"Hedonic housing prices and the demand for clean air.\"\nJournal of environmental economics and management 5.1 (1978): 81-102.\n<https://www.researchgate.net/publication/4974606_Hedonic_housing_prices_and_the_demand_for_clean_air>\n",
          "traceback": [
            "\u001b[0;31m---------------------------------------------------------------------------\u001b[0m",
            "\u001b[0;31mImportError\u001b[0m                               Traceback (most recent call last)",
            "Cell \u001b[0;32mIn[3], line 3\u001b[0m\n\u001b[1;32m      1\u001b[0m np\u001b[38;5;241m.\u001b[39mrandom\u001b[38;5;241m.\u001b[39mseed(\u001b[38;5;241m72018\u001b[39m)\n\u001b[0;32m----> 3\u001b[0m \u001b[38;5;28;01mfrom\u001b[39;00m \u001b[38;5;21;01msklearn\u001b[39;00m\u001b[38;5;21;01m.\u001b[39;00m\u001b[38;5;21;01mdatasets\u001b[39;00m \u001b[38;5;28;01mimport\u001b[39;00m load_boston\n\u001b[1;32m      5\u001b[0m \u001b[38;5;28;01mdef\u001b[39;00m \u001b[38;5;21mto_2d\u001b[39m(array):\n\u001b[1;32m      6\u001b[0m     \u001b[38;5;28;01mreturn\u001b[39;00m array\u001b[38;5;241m.\u001b[39mreshape(array\u001b[38;5;241m.\u001b[39mshape[\u001b[38;5;241m0\u001b[39m], \u001b[38;5;241m-\u001b[39m\u001b[38;5;241m1\u001b[39m)\n",
            "File \u001b[0;32m/lib/python3.11/site-packages/sklearn/datasets/__init__.py:157\u001b[0m, in \u001b[0;36m__getattr__\u001b[0;34m(name)\u001b[0m\n\u001b[1;32m    108\u001b[0m \u001b[38;5;28;01mif\u001b[39;00m name \u001b[38;5;241m==\u001b[39m \u001b[38;5;124m\"\u001b[39m\u001b[38;5;124mload_boston\u001b[39m\u001b[38;5;124m\"\u001b[39m:\n\u001b[1;32m    109\u001b[0m     msg \u001b[38;5;241m=\u001b[39m textwrap\u001b[38;5;241m.\u001b[39mdedent(\u001b[38;5;124m\"\"\"\u001b[39m\n\u001b[1;32m    110\u001b[0m \u001b[38;5;124m        `load_boston` has been removed from scikit-learn since version 1.2.\u001b[39m\n\u001b[1;32m    111\u001b[0m \n\u001b[0;32m   (...)\u001b[0m\n\u001b[1;32m    155\u001b[0m \u001b[38;5;124m        <https://www.researchgate.net/publication/4974606_Hedonic_housing_prices_and_the_demand_for_clean_air>\u001b[39m\n\u001b[1;32m    156\u001b[0m \u001b[38;5;124m        \u001b[39m\u001b[38;5;124m\"\"\"\u001b[39m)\n\u001b[0;32m--> 157\u001b[0m     \u001b[38;5;28;01mraise\u001b[39;00m \u001b[38;5;167;01mImportError\u001b[39;00m(msg)\n\u001b[1;32m    158\u001b[0m \u001b[38;5;28;01mtry\u001b[39;00m:\n\u001b[1;32m    159\u001b[0m     \u001b[38;5;28;01mreturn\u001b[39;00m \u001b[38;5;28mglobals\u001b[39m()[name]\n",
            "\u001b[0;31mImportError\u001b[0m: \n`load_boston` has been removed from scikit-learn since version 1.2.\n\nThe Boston housing prices dataset has an ethical problem: as\ninvestigated in [1], the authors of this dataset engineered a\nnon-invertible variable \"B\" assuming that racial self-segregation had a\npositive impact on house prices [2]. Furthermore the goal of the\nresearch that led to the creation of this dataset was to study the\nimpact of air quality but it did not give adequate demonstration of the\nvalidity of this assumption.\n\nThe scikit-learn maintainers therefore strongly discourage the use of\nthis dataset unless the purpose of the code is to study and educate\nabout ethical issues in data science and machine learning.\n\nIn this special case, you can fetch the dataset from the original\nsource::\n\n    import pandas as pd\n    import numpy as np\n\n    data_url = \"http://lib.stat.cmu.edu/datasets/boston\"\n    raw_df = pd.read_csv(data_url, sep=\"\\s+\", skiprows=22, header=None)\n    data = np.hstack([raw_df.values[::2, :], raw_df.values[1::2, :2]])\n    target = raw_df.values[1::2, 2]\n\nAlternative datasets include the California housing dataset and the\nAmes housing dataset. You can load the datasets as follows::\n\n    from sklearn.datasets import fetch_california_housing\n    housing = fetch_california_housing()\n\nfor the California housing dataset and::\n\n    from sklearn.datasets import fetch_openml\n    housing = fetch_openml(name=\"house_prices\", as_frame=True)\n\nfor the Ames housing dataset.\n\n[1] M Carlisle.\n\"Racist data destruction?\"\n<https://medium.com/@docintangible/racist-data-destruction-113e3eff54a8>\n\n[2] Harrison Jr, David, and Daniel L. Rubinfeld.\n\"Hedonic housing prices and the demand for clean air.\"\nJournal of environmental economics and management 5.1 (1978): 81-102.\n<https://www.researchgate.net/publication/4974606_Hedonic_housing_prices_and_the_demand_for_clean_air>\n"
          ],
          "output_type": "error"
        }
      ],
      "execution_count": 3
    },
    {
      "cell_type": "markdown",
      "source": "### Loading in Boston Data\n",
      "metadata": {}
    },
    {
      "cell_type": "code",
      "source": "from pyodide.http import pyfetch\n \nasync def download(url, filename):\n    response = await pyfetch(url)\n    if response.status == 200:\n        with open(filename, \"wb\") as f:\n            f.write(await response.bytes())\npath = \"https://cf-courses-data.s3.us.cloud-object-storage.appdomain.cloud/IBM-ML240EN-SkillsNetwork/labs/data/boston_housing_clean.pickle\"\n \n#you will need to download the dataset; if you are running locally, please comment out the following \nawait download(path, \"boston_housing_clean.pickle\")\n \n \n# Import pandas library\nimport pandas as pd",
      "metadata": {
        "trusted": true
      },
      "outputs": [],
      "execution_count": 4
    },
    {
      "cell_type": "code",
      "source": "with open('boston_housing_clean.pickle', 'rb') as to_read:\n    boston = pd.read_pickle(to_read)\nboston_data = boston['dataframe']\nboston_description = boston['description']\n\n# show the first 5 rows using dataframe.head() method\nprint(\"The first 5 rows of the dataframe\") \nboston_data.head()",
      "metadata": {
        "trusted": true
      },
      "outputs": [
        {
          "name": "stdout",
          "text": "The first 5 rows of the dataframe\n",
          "output_type": "stream"
        },
        {
          "execution_count": 5,
          "output_type": "execute_result",
          "data": {
            "text/plain": "      CRIM    ZN  INDUS  CHAS    NOX     RM   AGE     DIS  RAD    TAX  \\\n0  0.00632  18.0   2.31   0.0  0.538  6.575  65.2  4.0900  1.0  296.0   \n1  0.02731   0.0   7.07   0.0  0.469  6.421  78.9  4.9671  2.0  242.0   \n2  0.02729   0.0   7.07   0.0  0.469  7.185  61.1  4.9671  2.0  242.0   \n3  0.03237   0.0   2.18   0.0  0.458  6.998  45.8  6.0622  3.0  222.0   \n4  0.06905   0.0   2.18   0.0  0.458  7.147  54.2  6.0622  3.0  222.0   \n\n   PTRATIO       B  LSTAT  MEDV  \n0     15.3  396.90   4.98  24.0  \n1     17.8  396.90   9.14  21.6  \n2     17.8  392.83   4.03  34.7  \n3     18.7  394.63   2.94  33.4  \n4     18.7  396.90   5.33  36.2  ",
            "text/html": "<div>\n<style scoped>\n    .dataframe tbody tr th:only-of-type {\n        vertical-align: middle;\n    }\n\n    .dataframe tbody tr th {\n        vertical-align: top;\n    }\n\n    .dataframe thead th {\n        text-align: right;\n    }\n</style>\n<table border=\"1\" class=\"dataframe\">\n  <thead>\n    <tr style=\"text-align: right;\">\n      <th></th>\n      <th>CRIM</th>\n      <th>ZN</th>\n      <th>INDUS</th>\n      <th>CHAS</th>\n      <th>NOX</th>\n      <th>RM</th>\n      <th>AGE</th>\n      <th>DIS</th>\n      <th>RAD</th>\n      <th>TAX</th>\n      <th>PTRATIO</th>\n      <th>B</th>\n      <th>LSTAT</th>\n      <th>MEDV</th>\n    </tr>\n  </thead>\n  <tbody>\n    <tr>\n      <th>0</th>\n      <td>0.00632</td>\n      <td>18.0</td>\n      <td>2.31</td>\n      <td>0.0</td>\n      <td>0.538</td>\n      <td>6.575</td>\n      <td>65.2</td>\n      <td>4.0900</td>\n      <td>1.0</td>\n      <td>296.0</td>\n      <td>15.3</td>\n      <td>396.90</td>\n      <td>4.98</td>\n      <td>24.0</td>\n    </tr>\n    <tr>\n      <th>1</th>\n      <td>0.02731</td>\n      <td>0.0</td>\n      <td>7.07</td>\n      <td>0.0</td>\n      <td>0.469</td>\n      <td>6.421</td>\n      <td>78.9</td>\n      <td>4.9671</td>\n      <td>2.0</td>\n      <td>242.0</td>\n      <td>17.8</td>\n      <td>396.90</td>\n      <td>9.14</td>\n      <td>21.6</td>\n    </tr>\n    <tr>\n      <th>2</th>\n      <td>0.02729</td>\n      <td>0.0</td>\n      <td>7.07</td>\n      <td>0.0</td>\n      <td>0.469</td>\n      <td>7.185</td>\n      <td>61.1</td>\n      <td>4.9671</td>\n      <td>2.0</td>\n      <td>242.0</td>\n      <td>17.8</td>\n      <td>392.83</td>\n      <td>4.03</td>\n      <td>34.7</td>\n    </tr>\n    <tr>\n      <th>3</th>\n      <td>0.03237</td>\n      <td>0.0</td>\n      <td>2.18</td>\n      <td>0.0</td>\n      <td>0.458</td>\n      <td>6.998</td>\n      <td>45.8</td>\n      <td>6.0622</td>\n      <td>3.0</td>\n      <td>222.0</td>\n      <td>18.7</td>\n      <td>394.63</td>\n      <td>2.94</td>\n      <td>33.4</td>\n    </tr>\n    <tr>\n      <th>4</th>\n      <td>0.06905</td>\n      <td>0.0</td>\n      <td>2.18</td>\n      <td>0.0</td>\n      <td>0.458</td>\n      <td>7.147</td>\n      <td>54.2</td>\n      <td>6.0622</td>\n      <td>3.0</td>\n      <td>222.0</td>\n      <td>18.7</td>\n      <td>396.90</td>\n      <td>5.33</td>\n      <td>36.2</td>\n    </tr>\n  </tbody>\n</table>\n</div>"
          },
          "metadata": {}
        }
      ],
      "execution_count": 5
    },
    {
      "cell_type": "markdown",
      "source": "## Data standardization\n",
      "metadata": {}
    },
    {
      "cell_type": "markdown",
      "source": "**Standardizing** data refers to transforming each variable so that it more closely follows a **standard** normal distribution, with mean 0 and standard deviation 1.\n\nThe [`StandardScaler`](http://scikit-learn.org/dev/modules/generated/sklearn.preprocessing.StandardScaler.html?utm_medium=Exinfluencer&utm_source=Exinfluencer&utm_content=000026UJ&utm_term=10006555&utm_id=NA-SkillsNetwork-Channel-SkillsNetworkCoursesIBMML240ENSkillsNetwork34171862-2022-01-01#sklearn.preprocessing.StandardScaler) object in SciKit Learn can do this.\n",
      "metadata": {}
    },
    {
      "cell_type": "markdown",
      "source": "**Generate X and y**:\n",
      "metadata": {}
    },
    {
      "cell_type": "code",
      "source": "y_col = \"MEDV\"\n\nX = boston_data.drop(y_col, axis=1)\ny = boston_data[y_col]",
      "metadata": {
        "trusted": true
      },
      "outputs": [],
      "execution_count": 6
    },
    {
      "cell_type": "markdown",
      "source": "**Import, fit, and transform using `StandardScaler`**\n",
      "metadata": {}
    },
    {
      "cell_type": "code",
      "source": "from sklearn.preprocessing import StandardScaler\n\ns = StandardScaler()\nX_ss = s.fit_transform(X)",
      "metadata": {
        "trusted": true
      },
      "outputs": [],
      "execution_count": 7
    },
    {
      "cell_type": "markdown",
      "source": "### Exercise:\n\nConfirm standard scaling\n",
      "metadata": {}
    },
    {
      "cell_type": "code",
      "source": "#Hint:\n\na = np.array([[1, 2, 3], \n              [4, 5, 6]]) \nprint(a) # 2 rows, 3 columns",
      "metadata": {
        "trusted": true
      },
      "outputs": [
        {
          "name": "stdout",
          "text": "[[1 2 3]\n [4 5 6]]\n",
          "output_type": "stream"
        }
      ],
      "execution_count": 8
    },
    {
      "cell_type": "code",
      "source": "a.mean(axis=0) # mean along the *columns*",
      "metadata": {
        "trusted": true
      },
      "outputs": [
        {
          "execution_count": 9,
          "output_type": "execute_result",
          "data": {
            "text/plain": "array([2.5, 3.5, 4.5])"
          },
          "metadata": {}
        }
      ],
      "execution_count": 9
    },
    {
      "cell_type": "code",
      "source": "a.mean(axis=1) # mean along the *rows*",
      "metadata": {
        "trusted": true
      },
      "outputs": [
        {
          "execution_count": 10,
          "output_type": "execute_result",
          "data": {
            "text/plain": "array([2., 5.])"
          },
          "metadata": {}
        }
      ],
      "execution_count": 10
    },
    {
      "cell_type": "code",
      "source": "### BEGIN SOLUTION\nX2 = np.array(X)\nman_transform = (X2-X2.mean(axis=0))/X2.std(axis=0)\nnp.allclose(man_transform, X_ss)\n### END SOLUTION",
      "metadata": {
        "trusted": true
      },
      "outputs": [
        {
          "execution_count": 11,
          "output_type": "execute_result",
          "data": {
            "text/plain": "True"
          },
          "metadata": {}
        }
      ],
      "execution_count": 11
    },
    {
      "cell_type": "markdown",
      "source": "### Coefficients with and without scaling\n",
      "metadata": {}
    },
    {
      "cell_type": "code",
      "source": "from sklearn.linear_model import LinearRegression",
      "metadata": {
        "trusted": true
      },
      "outputs": [],
      "execution_count": 12
    },
    {
      "cell_type": "code",
      "source": "lr = LinearRegression()\n\ny_col = \"MEDV\"\n\nX = boston_data.drop(y_col, axis=1)\ny = boston_data[y_col]",
      "metadata": {
        "trusted": true
      },
      "outputs": [],
      "execution_count": 13
    },
    {
      "cell_type": "code",
      "source": "lr.fit(X, y)\nprint(lr.coef_) # min = -18",
      "metadata": {
        "trusted": true
      },
      "outputs": [
        {
          "name": "stdout",
          "text": "[ -0.107   0.046   0.021   2.689 -17.796   3.805   0.001  -1.476   0.306\n  -0.012  -0.953   0.009  -0.525]\n",
          "output_type": "stream"
        }
      ],
      "execution_count": 14
    },
    {
      "cell_type": "markdown",
      "source": "#### Discussion (together):\n\nThe coefficients are on widely different scales. Is this \"bad\"?\n",
      "metadata": {}
    },
    {
      "cell_type": "code",
      "source": "from sklearn.preprocessing import StandardScaler",
      "metadata": {
        "trusted": true
      },
      "outputs": [],
      "execution_count": 15
    },
    {
      "cell_type": "code",
      "source": "s = StandardScaler()\nX_ss = s.fit_transform(X)",
      "metadata": {
        "trusted": true
      },
      "outputs": [],
      "execution_count": 16
    },
    {
      "cell_type": "code",
      "source": "lr2 = LinearRegression()\nlr2.fit(X_ss, y)\nprint(lr2.coef_) # coefficients now \"on the same scale\"",
      "metadata": {
        "trusted": true
      },
      "outputs": [
        {
          "name": "stdout",
          "text": "[-0.92   1.081  0.143  0.682 -2.06   2.671  0.021 -3.104  2.659 -2.076\n -2.062  0.857 -3.749]\n",
          "output_type": "stream"
        }
      ],
      "execution_count": 17
    },
    {
      "cell_type": "markdown",
      "source": "### Exercise:\n\nBased on these results, what is the most \"impactful\" feature (this is intended to be slightly ambiguous)? \"In what direction\" does it affect \"y\"?\n\n**Hint:** Recall from last week that we can \"zip up\" the names of the features of a DataFrame `df` with a model `model` fitted on that DataFrame using:\n\n```python\ndict(zip(df.columns.values, model.coef_))\n```\n",
      "metadata": {}
    },
    {
      "cell_type": "code",
      "source": "### BEGIN SOLUTION\npd.DataFrame(zip(X.columns, lr2.coef_)).sort_values(by=1)\n### END SOLUTION",
      "metadata": {
        "trusted": true
      },
      "outputs": [
        {
          "execution_count": 18,
          "output_type": "execute_result",
          "data": {
            "text/plain": "          0         1\n12    LSTAT -3.748680\n7       DIS -3.104448\n9       TAX -2.075898\n10  PTRATIO -2.062156\n4       NOX -2.060092\n0      CRIM -0.920411\n6       AGE  0.021121\n2     INDUS  0.142967\n3      CHAS  0.682203\n11        B  0.856640\n1        ZN  1.080981\n8       RAD  2.658787\n5        RM  2.670641",
            "text/html": "<div>\n<style scoped>\n    .dataframe tbody tr th:only-of-type {\n        vertical-align: middle;\n    }\n\n    .dataframe tbody tr th {\n        vertical-align: top;\n    }\n\n    .dataframe thead th {\n        text-align: right;\n    }\n</style>\n<table border=\"1\" class=\"dataframe\">\n  <thead>\n    <tr style=\"text-align: right;\">\n      <th></th>\n      <th>0</th>\n      <th>1</th>\n    </tr>\n  </thead>\n  <tbody>\n    <tr>\n      <th>12</th>\n      <td>LSTAT</td>\n      <td>-3.748680</td>\n    </tr>\n    <tr>\n      <th>7</th>\n      <td>DIS</td>\n      <td>-3.104448</td>\n    </tr>\n    <tr>\n      <th>9</th>\n      <td>TAX</td>\n      <td>-2.075898</td>\n    </tr>\n    <tr>\n      <th>10</th>\n      <td>PTRATIO</td>\n      <td>-2.062156</td>\n    </tr>\n    <tr>\n      <th>4</th>\n      <td>NOX</td>\n      <td>-2.060092</td>\n    </tr>\n    <tr>\n      <th>0</th>\n      <td>CRIM</td>\n      <td>-0.920411</td>\n    </tr>\n    <tr>\n      <th>6</th>\n      <td>AGE</td>\n      <td>0.021121</td>\n    </tr>\n    <tr>\n      <th>2</th>\n      <td>INDUS</td>\n      <td>0.142967</td>\n    </tr>\n    <tr>\n      <th>3</th>\n      <td>CHAS</td>\n      <td>0.682203</td>\n    </tr>\n    <tr>\n      <th>11</th>\n      <td>B</td>\n      <td>0.856640</td>\n    </tr>\n    <tr>\n      <th>1</th>\n      <td>ZN</td>\n      <td>1.080981</td>\n    </tr>\n    <tr>\n      <th>8</th>\n      <td>RAD</td>\n      <td>2.658787</td>\n    </tr>\n    <tr>\n      <th>5</th>\n      <td>RM</td>\n      <td>2.670641</td>\n    </tr>\n  </tbody>\n</table>\n</div>"
          },
          "metadata": {}
        }
      ],
      "execution_count": 18
    },
    {
      "cell_type": "markdown",
      "source": "Looking just at the strength of the standardized coefficients LSTAT, DIS, RM and RAD are all the 'most impactful'. Sklearn does not have built in statistical signifigance of each of these variables which would aid in making this claim stronger/weaker\n",
      "metadata": {}
    },
    {
      "cell_type": "markdown",
      "source": "### Lasso with and without scaling\n",
      "metadata": {}
    },
    {
      "cell_type": "markdown",
      "source": "We discussed Lasso in lecture.\n\nLet's review together:\n\n1.  What is different about Lasso vs. regular Linear Regression?\n2.  Is standardization more or less important with Lasso vs. Linear Regression? Why?\n",
      "metadata": {}
    },
    {
      "cell_type": "code",
      "source": "from sklearn.linear_model import Lasso\nfrom sklearn.preprocessing import PolynomialFeatures",
      "metadata": {
        "trusted": true
      },
      "outputs": [],
      "execution_count": 19
    },
    {
      "cell_type": "markdown",
      "source": "#### Create polynomial features\n",
      "metadata": {}
    },
    {
      "cell_type": "markdown",
      "source": "[`PolynomialFeatures`](http://scikit-learn.org/stable/modules/generated/sklearn.preprocessing.PolynomialFeatures.html?utm_medium=Exinfluencer&utm_source=Exinfluencer&utm_content=000026UJ&utm_term=10006555&utm_id=NA-SkillsNetwork-Channel-SkillsNetworkCoursesIBMML240ENSkillsNetwork34171862-2022-01-01)\n",
      "metadata": {}
    },
    {
      "cell_type": "code",
      "source": "pf = PolynomialFeatures(degree=2, include_bias=False,)\nX_pf = pf.fit_transform(X)",
      "metadata": {
        "trusted": true
      },
      "outputs": [],
      "execution_count": 20
    },
    {
      "cell_type": "markdown",
      "source": "**Note:** We use `include_bias=False` since `Lasso` includes a bias by default.\n",
      "metadata": {}
    },
    {
      "cell_type": "code",
      "source": "X_pf_ss = s.fit_transform(X_pf)",
      "metadata": {
        "trusted": true
      },
      "outputs": [],
      "execution_count": 21
    },
    {
      "cell_type": "markdown",
      "source": "### Lasso\n",
      "metadata": {}
    },
    {
      "cell_type": "markdown",
      "source": "[`Lasso` documentation](http://scikit-learn.org/stable/modules/generated/sklearn.linear_model.Lasso.html?utm_medium=Exinfluencer&utm_source=Exinfluencer&utm_content=000026UJ&utm_term=10006555&utm_id=NA-SkillsNetwork-Channel-SkillsNetworkCoursesIBMML240ENSkillsNetwork34171862-2022-01-01)\n",
      "metadata": {}
    },
    {
      "cell_type": "code",
      "source": "las = Lasso()\nlas.fit(X_pf_ss, y)\nlas.coef_ ",
      "metadata": {
        "trusted": true
      },
      "outputs": [
        {
          "execution_count": 22,
          "output_type": "execute_result",
          "data": {
            "text/plain": "array([-0.   ,  0.   , -0.   ,  0.   , -0.   ,  0.   , -0.   , -0.   ,\n       -0.   , -0.   , -0.991,  0.   , -0.   , -0.   ,  0.   , -0.   ,\n        0.068, -0.   , -0.   , -0.   , -0.   , -0.   , -0.   , -0.   ,\n       -0.   , -0.   ,  0.   ,  0.   ,  0.   ,  0.   ,  0.   ,  0.   ,\n        0.   ,  0.   ,  0.   ,  0.   ,  0.   ,  0.   , -0.   ,  0.   ,\n       -0.   , -0.   , -0.   , -0.05 , -0.   , -0.   , -0.   , -0.   ,\n       -0.   ,  0.   ,  0.   ,  0.   ,  0.   ,  0.   ,  0.   ,  0.   ,\n        0.   ,  0.   ,  0.   , -0.   , -0.   , -0.   , -0.   , -0.   ,\n       -0.   , -0.   ,  0.   , -0.   ,  3.3  , -0.   , -0.   , -0.   ,\n       -0.   , -0.   ,  0.42 , -3.498, -0.   , -0.   , -0.   , -0.   ,\n       -0.   ,  0.   , -0.   , -0.   , -0.   , -0.146, -0.   , -0.   ,\n       -0.   , -0.   , -0.   , -0.   , -0.   , -0.   , -0.   , -0.   ,\n       -0.   , -0.   , -0.   ,  0.   , -0.   ,  0.   , -0.   , -0.   ])"
          },
          "metadata": {}
        }
      ],
      "execution_count": 22
    },
    {
      "cell_type": "markdown",
      "source": "### Exercise\n\nCompare\n\n*   Sum of magnitudes of the coefficients\n*   Number of coefficients that are zero\n\nfor Lasso with alpha 0.1 vs. 1.\n\nBefore doing the exercise, answer the following questions in one sentence each:\n\n*   Which do you expect to have greater magnitude?\n*   Which do you expect to have more zeros?\n",
      "metadata": {}
    },
    {
      "cell_type": "code",
      "source": "### BEGIN SOLUTION\nlas01 = Lasso(alpha = 0.1)\nlas01.fit(X_pf_ss, y)\nprint('sum of coefficients:', abs(las01.coef_).sum() )\nprint('number of coefficients not equal to 0:', (las01.coef_!=0).sum())",
      "metadata": {
        "trusted": true
      },
      "outputs": [
        {
          "name": "stdout",
          "text": "sum of coefficients: 26.172415115426773\nnumber of coefficients not equal to 0: 23\n",
          "output_type": "stream"
        }
      ],
      "execution_count": 23
    },
    {
      "cell_type": "code",
      "source": "las1 = Lasso(alpha = 1)\nlas1.fit(X_pf_ss, y)\nprint('sum of coefficients:',abs(las1.coef_).sum() )\nprint('number of coefficients not equal to 0:',(las1.coef_!=0).sum())\n### END SOLUTION",
      "metadata": {
        "trusted": true
      },
      "outputs": [
        {
          "name": "stdout",
          "text": "sum of coefficients: 8.472405227760156\nnumber of coefficients not equal to 0: 7\n",
          "output_type": "stream"
        }
      ],
      "execution_count": 24
    },
    {
      "cell_type": "markdown",
      "source": "With more regularization (higher alpha) we will expect the penalty for higher weights to be greater and thus the coefficients to be pushed down. Thus a higher alpha means lower magnitude with more coefficients pushed down to 0.\n",
      "metadata": {}
    },
    {
      "cell_type": "markdown",
      "source": "### Exercise: $R^2$\n",
      "metadata": {}
    },
    {
      "cell_type": "markdown",
      "source": "Calculate the $R^2$ of each model without train/test split.\n\nRecall that we import $R^2$ using:\n\n```python\nfrom sklearn.metrics import r2_score\n```\n",
      "metadata": {}
    },
    {
      "cell_type": "code",
      "source": "### BEGIN SOLUTION\nfrom sklearn.metrics import r2_score\nr2_score(y,las.predict(X_pf_ss))\n### END SOLUTION",
      "metadata": {
        "trusted": true
      },
      "outputs": [
        {
          "execution_count": 25,
          "output_type": "execute_result",
          "data": {
            "text/plain": "0.7207000461229027"
          },
          "metadata": {}
        }
      ],
      "execution_count": 25
    },
    {
      "cell_type": "markdown",
      "source": "#### Discuss:\n\nWill regularization ever increase model performance if we evaluate on the same dataset that we trained on?\n",
      "metadata": {}
    },
    {
      "cell_type": "markdown",
      "source": "## With train/test split\n",
      "metadata": {}
    },
    {
      "cell_type": "markdown",
      "source": "#### Discuss\n\nAre there any issues with what we've done so far?\n\n**Hint:** Think about the way we have done feature scaling.\n\nDiscuss in groups of two or three.\n",
      "metadata": {}
    },
    {
      "cell_type": "code",
      "source": "from sklearn.model_selection import train_test_split",
      "metadata": {
        "trusted": true
      },
      "outputs": [],
      "execution_count": 26
    },
    {
      "cell_type": "code",
      "source": "X_train, X_test, y_train, y_test = train_test_split(X_pf, y, test_size=0.3, \n                                                    random_state=72018)",
      "metadata": {
        "trusted": true
      },
      "outputs": [],
      "execution_count": 27
    },
    {
      "cell_type": "code",
      "source": "X_train_s = s.fit_transform(X_train)\nlas.fit(X_train_s, y_train)\nX_test_s = s.transform(X_test)\ny_pred = las.predict(X_test_s)\nr2_score(y_test, y_pred)",
      "metadata": {
        "trusted": true
      },
      "outputs": [
        {
          "execution_count": 28,
          "output_type": "execute_result",
          "data": {
            "text/plain": "0.6780325981174933"
          },
          "metadata": {}
        }
      ],
      "execution_count": 28
    },
    {
      "cell_type": "code",
      "source": "X_train_s = s.fit_transform(X_train)\nlas01.fit(X_train_s, y_train)\nX_test_s = s.transform(X_test)\ny_pred = las01.predict(X_test_s)\nr2_score(y_test, y_pred)",
      "metadata": {
        "trusted": true
      },
      "outputs": [
        {
          "execution_count": 29,
          "output_type": "execute_result",
          "data": {
            "text/plain": "0.7999261342846065"
          },
          "metadata": {}
        }
      ],
      "execution_count": 29
    },
    {
      "cell_type": "markdown",
      "source": "### Exercise\n\n#### Part 1:\n\nDo the same thing with Lasso of:\n\n*   `alpha` of 0.001\n*   Increase `max_iter` to 100000 to ensure convergence.\n\nCalculate the $R^2$ of the model.\n\nFeel free to copy-paste code from above, but write a one sentence comment above each line of code explaining why you're doing what you're doing.\n\n#### Part 2:\n\nDo the same procedure as before, but with Linear Regression.\n\nCalculate the $R^2$ of this model.\n\n#### Part 3:\n\nCompare the sums of the absolute values of the coefficients for both models, as well as the number of coefficients that are zero. Based on these measures, which model is a \"simpler\" description of the relationship between the features and the target?\n",
      "metadata": {}
    },
    {
      "cell_type": "code",
      "source": "### BEGIN SOLUTION\n\n# Part 1\n\n# Decreasing regularization and ensuring convergence\nlas001 = Lasso(alpha = 0.001, max_iter=100000)\n\n# Transforming training set to get standardized units\nX_train_s = s.fit_transform(X_train)\n\n# Fitting model to training set\nlas001.fit(X_train_s, y_train)\n\n# Transforming test set using the parameters defined from training set\nX_test_s = s.transform(X_test)\n\n# Finding prediction on test set\ny_pred = las001.predict(X_test_s)\n\n# Calculating r2 score\nprint(\"r2 score for alpha = 0.001:\", r2_score(y_test, y_pred))\n\n\n# Part 2\n\n# Using vanilla Linear Regression\nlr = LinearRegression()\n\n# Fitting model to training set\nlr.fit(X_train_s, y_train)\n\n# predicting on test set\ny_pred_lr = lr.predict(X_test_s)\n\n# Calculating r2 score\nprint(\"r2 score for Linear Regression:\", r2_score(y_test,y_pred_lr))\n\n\n# Part 3\nprint('Magnitude of Lasso coefficients:', abs(las001.coef_).sum())\nprint('Number of coeffients not equal to 0 for Lasso:', (las001.coef_!=0).sum())\n\nprint('Magnitude of Linear Regression coefficients:', abs(lr.coef_).sum())\nprint('Number of coeffients not equal to 0 for Linear Regression:', (lr.coef_!=0).sum())\n### END SOLUTION",
      "metadata": {
        "trusted": true
      },
      "outputs": [
        {
          "name": "stdout",
          "text": "r2 score for alpha = 0.001: 0.8847893236874534\nr2 score for Linear Regression: 0.8689110469231067\nMagnitude of Lasso coefficients: 435.5723229043781\nNumber of coeffients not equal to 0 for Lasso: 90\nMagnitude of Linear Regression coefficients: 1183.8918138675313\nNumber of coeffients not equal to 0 for Linear Regression: 104\n",
          "output_type": "stream"
        }
      ],
      "execution_count": 30
    },
    {
      "cell_type": "markdown",
      "source": "## L1 vs. L2 Regularization\n",
      "metadata": {}
    },
    {
      "cell_type": "markdown",
      "source": "As mentioned in the deck: `Lasso` and `Ridge` regression have the same syntax in SciKit Learn.\n\nNow we're going to compare the results from Ridge vs. Lasso regression:\n",
      "metadata": {}
    },
    {
      "cell_type": "markdown",
      "source": "[`Ridge`](http://scikit-learn.org/stable/modules/generated/sklearn.linear_model.Ridge.html?utm_medium=Exinfluencer&utm_source=Exinfluencer&utm_content=000026UJ&utm_term=10006555&utm_id=NA-SkillsNetwork-Channel-SkillsNetworkCoursesIBMML240ENSkillsNetwork34171862-2022-01-01)\n",
      "metadata": {}
    },
    {
      "cell_type": "code",
      "source": "from sklearn.linear_model import Ridge",
      "metadata": {
        "trusted": true
      },
      "outputs": [],
      "execution_count": 31
    },
    {
      "cell_type": "markdown",
      "source": "### Exercise\n\nFollowing the Ridge documentation from above:\n\n1.  Define a Ridge object `r` with the same `alpha` as `las001`.\n2.  Fit that object on `X` and `y` and print out the resulting coefficients.\n",
      "metadata": {}
    },
    {
      "cell_type": "code",
      "source": "### BEGIN SOLUTION\n# Decreasing regularization and ensuring convergence\nr = Ridge(alpha = 0.001)\nX_train_s = s.fit_transform(X_train)\nr.fit(X_train_s, y_train)\nX_test_s = s.transform(X_test)\ny_pred_r = r.predict(X_test_s)\n\n# Calculating r2 score\nr.coef_\n### END SOLUTION",
      "metadata": {
        "trusted": true
      },
      "outputs": [
        {
          "execution_count": 32,
          "output_type": "execute_result",
          "data": {
            "text/plain": "array([  7.692,   9.889, -25.005,   5.31 ,  -2.61 ,  14.958,  22.314,\n       -22.858,  27.765,  -1.565,  17.077,  21.858,  11.574,   1.05 ,\n         0.431,  13.786,   1.814,  -8.345,   4.994,  -3.564,  -3.436,\n       -16.336,  -7.047,   6.609,  -1.477,   4.686,  -1.304,  -0.059,\n        -0.304, -12.842,   1.977,   1.081,  -0.676,  -1.079,   4.492,\n        -4.267,   4.675,  -1.281,   8.666,  -0.274,  -8.12 ,  11.783,\n         6.538,   1.323,   2.06 ,   0.899,   1.789,   4.744,  -4.664,\n         5.31 ,  -3.236,  -8.668,   0.973,   1.136,   0.29 ,  -1.631,\n        -2.926,   2.923,  -0.735,  11.896,   0.754,  -7.531,  18.306,\n       -22.168,  35.651, -22.381,  -7.378,   1.732,   4.068, -12.254,\n        -3.721,  -5.537, -16.169,  -5.872,  -4.515,  -9.903,   0.942,\n        -0.095,  17.18 , -14.268,  -2.904,  -2.824,  -5.418,  11.908,\n         0.065,  -4.433,  -5.679,  -3.515,   0.822, -29.082,  49.345,\n       -21.72 ,  -1.428,  -8.864, -15.682,  11.982,  -0.818,   2.924,\n        -0.701,  -4.375,   2.712,  -2.48 ,  -2.382,   1.707])"
          },
          "metadata": {}
        }
      ],
      "execution_count": 32
    },
    {
      "cell_type": "code",
      "source": "las001 # same alpha as Ridge above",
      "metadata": {
        "trusted": true
      },
      "outputs": [
        {
          "execution_count": 33,
          "output_type": "execute_result",
          "data": {
            "text/plain": "Lasso(alpha=0.001, max_iter=100000)",
            "text/html": "<style>#sk-container-id-1 {color: black;}#sk-container-id-1 pre{padding: 0;}#sk-container-id-1 div.sk-toggleable {background-color: white;}#sk-container-id-1 label.sk-toggleable__label {cursor: pointer;display: block;width: 100%;margin-bottom: 0;padding: 0.3em;box-sizing: border-box;text-align: center;}#sk-container-id-1 label.sk-toggleable__label-arrow:before {content: \"▸\";float: left;margin-right: 0.25em;color: #696969;}#sk-container-id-1 label.sk-toggleable__label-arrow:hover:before {color: black;}#sk-container-id-1 div.sk-estimator:hover label.sk-toggleable__label-arrow:before {color: black;}#sk-container-id-1 div.sk-toggleable__content {max-height: 0;max-width: 0;overflow: hidden;text-align: left;background-color: #f0f8ff;}#sk-container-id-1 div.sk-toggleable__content pre {margin: 0.2em;color: black;border-radius: 0.25em;background-color: #f0f8ff;}#sk-container-id-1 input.sk-toggleable__control:checked~div.sk-toggleable__content {max-height: 200px;max-width: 100%;overflow: auto;}#sk-container-id-1 input.sk-toggleable__control:checked~label.sk-toggleable__label-arrow:before {content: \"▾\";}#sk-container-id-1 div.sk-estimator input.sk-toggleable__control:checked~label.sk-toggleable__label {background-color: #d4ebff;}#sk-container-id-1 div.sk-label input.sk-toggleable__control:checked~label.sk-toggleable__label {background-color: #d4ebff;}#sk-container-id-1 input.sk-hidden--visually {border: 0;clip: rect(1px 1px 1px 1px);clip: rect(1px, 1px, 1px, 1px);height: 1px;margin: -1px;overflow: hidden;padding: 0;position: absolute;width: 1px;}#sk-container-id-1 div.sk-estimator {font-family: monospace;background-color: #f0f8ff;border: 1px dotted black;border-radius: 0.25em;box-sizing: border-box;margin-bottom: 0.5em;}#sk-container-id-1 div.sk-estimator:hover {background-color: #d4ebff;}#sk-container-id-1 div.sk-parallel-item::after {content: \"\";width: 100%;border-bottom: 1px solid gray;flex-grow: 1;}#sk-container-id-1 div.sk-label:hover label.sk-toggleable__label {background-color: #d4ebff;}#sk-container-id-1 div.sk-serial::before {content: \"\";position: absolute;border-left: 1px solid gray;box-sizing: border-box;top: 0;bottom: 0;left: 50%;z-index: 0;}#sk-container-id-1 div.sk-serial {display: flex;flex-direction: column;align-items: center;background-color: white;padding-right: 0.2em;padding-left: 0.2em;position: relative;}#sk-container-id-1 div.sk-item {position: relative;z-index: 1;}#sk-container-id-1 div.sk-parallel {display: flex;align-items: stretch;justify-content: center;background-color: white;position: relative;}#sk-container-id-1 div.sk-item::before, #sk-container-id-1 div.sk-parallel-item::before {content: \"\";position: absolute;border-left: 1px solid gray;box-sizing: border-box;top: 0;bottom: 0;left: 50%;z-index: -1;}#sk-container-id-1 div.sk-parallel-item {display: flex;flex-direction: column;z-index: 1;position: relative;background-color: white;}#sk-container-id-1 div.sk-parallel-item:first-child::after {align-self: flex-end;width: 50%;}#sk-container-id-1 div.sk-parallel-item:last-child::after {align-self: flex-start;width: 50%;}#sk-container-id-1 div.sk-parallel-item:only-child::after {width: 0;}#sk-container-id-1 div.sk-dashed-wrapped {border: 1px dashed gray;margin: 0 0.4em 0.5em 0.4em;box-sizing: border-box;padding-bottom: 0.4em;background-color: white;}#sk-container-id-1 div.sk-label label {font-family: monospace;font-weight: bold;display: inline-block;line-height: 1.2em;}#sk-container-id-1 div.sk-label-container {text-align: center;}#sk-container-id-1 div.sk-container {/* jupyter's `normalize.less` sets `[hidden] { display: none; }` but bootstrap.min.css set `[hidden] { display: none !important; }` so we also need the `!important` here to be able to override the default hidden behavior on the sphinx rendered scikit-learn.org. See: https://github.com/scikit-learn/scikit-learn/issues/21755 */display: inline-block !important;position: relative;}#sk-container-id-1 div.sk-text-repr-fallback {display: none;}</style><div id=\"sk-container-id-1\" class=\"sk-top-container\"><div class=\"sk-text-repr-fallback\"><pre>Lasso(alpha=0.001, max_iter=100000)</pre><b>In a Jupyter environment, please rerun this cell to show the HTML representation or trust the notebook. <br />On GitHub, the HTML representation is unable to render, please try loading this page with nbviewer.org.</b></div><div class=\"sk-container\" hidden><div class=\"sk-item\"><div class=\"sk-estimator sk-toggleable\"><input class=\"sk-toggleable__control sk-hidden--visually\" id=\"sk-estimator-id-1\" type=\"checkbox\" checked><label for=\"sk-estimator-id-1\" class=\"sk-toggleable__label sk-toggleable__label-arrow\">Lasso</label><div class=\"sk-toggleable__content\"><pre>Lasso(alpha=0.001, max_iter=100000)</pre></div></div></div></div></div>"
          },
          "metadata": {}
        }
      ],
      "execution_count": 33
    },
    {
      "cell_type": "code",
      "source": "las001.coef_",
      "metadata": {
        "trusted": true
      },
      "outputs": [
        {
          "execution_count": 34,
          "output_type": "execute_result",
          "data": {
            "text/plain": "array([  0.   ,   0.   , -17.008,   2.592,   0.   ,  13.431,  10.062,\n       -19.542,   9.237,   0.   ,   6.159,  17.087,  11.486,   1.208,\n         0.219,  10.827,   2.185,  -7.106,   4.312,  -1.526,  -2.092,\n        -9.669,   0.   ,   0.   ,  -1.177,   3.865,   0.378,   0.194,\n        -0.296,  -3.478,   0.291,   0.72 ,  -0.795,  -0.74 ,   2.407,\n        -0.892,   2.835,  -0.984,   3.864,  -0.963,   6.914,   6.2  ,\n         4.197,   0.892,   2.028,   2.608,  -3.975,   2.574,  -4.568,\n         2.086,  -2.   ,  -7.412,   1.604,   1.676,  -1.248,  -0.   ,\n        -0.   ,   2.576,  -0.851,   3.206,  -0.   ,  -2.429,   9.276,\n        -7.056,   0.   ,  -5.955,  -5.326,   0.531,   3.344,  -7.575,\n        -0.   ,  -6.762, -10.2  ,  -6.428,  -2.835,  -9.561,   0.288,\n         0.549,  11.094,  -6.731,  -1.161,  -2.301,  -3.555,   9.12 ,\n        -0.014,  -2.384,  -2.042,  -1.691,   0.798, -20.822,  27.09 ,\n         0.   ,  -1.527,  -6.793,  -5.084,  15.577,   0.   ,  -0.   ,\n         0.569,  -3.456,   2.458,  -2.501,  -2.223,   2.226])"
          },
          "metadata": {}
        }
      ],
      "execution_count": 34
    },
    {
      "cell_type": "code",
      "source": "print(np.sum(np.abs(r.coef_)))\nprint(np.sum(np.abs(las001.coef_)))\n\nprint(np.sum(r.coef_ != 0))\nprint(np.sum(las001.coef_ != 0))",
      "metadata": {
        "trusted": true
      },
      "outputs": [
        {
          "name": "stdout",
          "text": "792.8673754993279\n435.5723229043781\n104\n90\n",
          "output_type": "stream"
        }
      ],
      "execution_count": 35
    },
    {
      "cell_type": "markdown",
      "source": "**Conclusion:** Ridge does not make any coefficients 0. In addition, on this particular dataset, Lasso provides stronger overall regularization than Ridge for this value of `alpha` (not necessarily true in general).\n",
      "metadata": {}
    },
    {
      "cell_type": "code",
      "source": "y_pred = r.predict(X_pf_ss)\nprint(r2_score(y, y_pred))\n\ny_pred = las001.predict(X_pf_ss)\nprint(r2_score(y, y_pred))",
      "metadata": {
        "trusted": true
      },
      "outputs": [
        {
          "name": "stdout",
          "text": "0.9076091395031429\n0.9103503442034472\n",
          "output_type": "stream"
        }
      ],
      "execution_count": 36
    },
    {
      "cell_type": "markdown",
      "source": "**Conclusion**: Ignoring issues of overfitting, Ridge does slightly better than Lasso when `alpha` is set to 0.001 for each (not necessarily true in general).\n",
      "metadata": {}
    },
    {
      "cell_type": "markdown",
      "source": "# Example: Does it matter when you scale?\n",
      "metadata": {}
    },
    {
      "cell_type": "code",
      "source": "X_train, X_test, y_train, y_test = train_test_split(X_ss, y, test_size=0.3, \n                                                    random_state=72018)",
      "metadata": {
        "trusted": true
      },
      "outputs": [],
      "execution_count": 37
    },
    {
      "cell_type": "code",
      "source": "lr = LinearRegression()\nlr.fit(X_train, y_train)\ny_pred = lr.predict(X_test)\nr2_score(y_test, y_pred)",
      "metadata": {
        "trusted": true
      },
      "outputs": [
        {
          "execution_count": 38,
          "output_type": "execute_result",
          "data": {
            "text/plain": "0.6982083583132745"
          },
          "metadata": {}
        }
      ],
      "execution_count": 38
    },
    {
      "cell_type": "code",
      "source": "X_train, X_test, y_train, y_test = train_test_split(X, y, test_size=0.3, \n                                                    random_state=72018)",
      "metadata": {
        "trusted": true
      },
      "outputs": [],
      "execution_count": 39
    },
    {
      "cell_type": "code",
      "source": "s = StandardScaler()\nlr_s = LinearRegression()\nX_train_s = s.fit_transform(X_train)\nlr_s.fit(X_train_s, y_train)\nX_test_s = s.transform(X_test)\ny_pred_s = lr_s.predict(X_test_s)\nr2_score(y_test, y_pred)",
      "metadata": {
        "trusted": true
      },
      "outputs": [
        {
          "execution_count": 40,
          "output_type": "execute_result",
          "data": {
            "text/plain": "0.6982083583132745"
          },
          "metadata": {}
        }
      ],
      "execution_count": 40
    },
    {
      "cell_type": "markdown",
      "source": "**Conclusion:** It doesn't matter whether you scale before or afterwards, in terms of the raw predictions, for Linear Regression. However, it matters for other algorithms. Plus, as we'll see later, we can make scaling part of a `Pipeline`.\n",
      "metadata": {}
    },
    {
      "cell_type": "markdown",
      "source": "***\n\n### Machine Learning Foundation (C) 2020 IBM Corporation\n",
      "metadata": {}
    }
  ]
}