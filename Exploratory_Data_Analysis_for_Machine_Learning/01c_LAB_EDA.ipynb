{
  "metadata": {
    "kernelspec": {
      "name": "python",
      "display_name": "Python (Pyodide)",
      "language": "python"
    },
    "language_info": {
      "codemirror_mode": {
        "name": "python",
        "version": 3
      },
      "file_extension": ".py",
      "mimetype": "text/x-python",
      "name": "python",
      "nbconvert_exporter": "python",
      "pygments_lexer": "ipython3",
      "version": "3.8"
    }
  },
  "nbformat_minor": 4,
  "nbformat": 4,
  "cells": [
    {
      "cell_type": "markdown",
      "source": "# Machine Learning Foundation\n\n## Section 1, Part c: EDA Lab\n",
      "metadata": {}
    },
    {
      "cell_type": "markdown",
      "source": "## Introduction\n\nWe will be using the iris data set for this tutorial. This is a well-known data set containing iris species and sepal and petal measurements. The data we will use are in a file called `iris_data.csv` found in the [data](data/) directory.\n",
      "metadata": {}
    },
    {
      "cell_type": "code",
      "source": "import piplite\nawait piplite.install(['numpy','pandas','seaborn', 'matplotlib'])",
      "metadata": {
        "trusted": true
      },
      "outputs": [],
      "execution_count": 1
    },
    {
      "cell_type": "code",
      "source": "# Surpress warnings:\ndef warn(*args, **kwargs):\n    pass\nimport warnings\nwarnings.warn = warn",
      "metadata": {
        "trusted": true
      },
      "outputs": [],
      "execution_count": 2
    },
    {
      "cell_type": "code",
      "source": "import os\nimport numpy as np\nimport pandas as pd",
      "metadata": {
        "trusted": true
      },
      "outputs": [],
      "execution_count": 3
    },
    {
      "cell_type": "markdown",
      "source": "## Question 1\n\nLoad the data from the file using the techniques learned today. Examine it.\n\nDetermine the following:\n\n* The number of data points (rows). (*Hint:* check out the dataframe `.shape` attribute.)\n* The column names. (*Hint:* check out the dataframe `.columns` attribute.)\n* The data types for each column. (*Hint:* check out the dataframe `.dtypes` attribute.)\n",
      "metadata": {}
    },
    {
      "cell_type": "code",
      "source": "from pyodide.http import pyfetch\n \nasync def download(url, filename):\n    response = await pyfetch(url)\n    if response.status == 200:\n        with open(filename, \"wb\") as f:\n            f.write(await response.bytes())\n            \npath = \"https://cf-courses-data.s3.us.cloud-object-storage.appdomain.cloud/IBM-ML0232EN-SkillsNetwork/asset/iris_data.csv\"\n \nawait download(path, \"iris_data.csv\")\n \ndata = pd.read_csv(\"iris_data.csv\")\n \ndata.head()",
      "metadata": {
        "trusted": true
      },
      "outputs": [
        {
          "execution_count": 4,
          "output_type": "execute_result",
          "data": {
            "text/plain": "   sepal_length  sepal_width  petal_length  petal_width species\n0           5.1          3.5           1.4          0.2  setosa\n1           4.9          3.0           1.4          0.2  setosa\n2           4.7          3.2           1.3          0.2  setosa\n3           4.6          3.1           1.5          0.2  setosa\n4           5.0          3.6           1.4          0.2  setosa",
            "text/html": "<div>\n<style scoped>\n    .dataframe tbody tr th:only-of-type {\n        vertical-align: middle;\n    }\n\n    .dataframe tbody tr th {\n        vertical-align: top;\n    }\n\n    .dataframe thead th {\n        text-align: right;\n    }\n</style>\n<table border=\"1\" class=\"dataframe\">\n  <thead>\n    <tr style=\"text-align: right;\">\n      <th></th>\n      <th>sepal_length</th>\n      <th>sepal_width</th>\n      <th>petal_length</th>\n      <th>petal_width</th>\n      <th>species</th>\n    </tr>\n  </thead>\n  <tbody>\n    <tr>\n      <th>0</th>\n      <td>5.1</td>\n      <td>3.5</td>\n      <td>1.4</td>\n      <td>0.2</td>\n      <td>setosa</td>\n    </tr>\n    <tr>\n      <th>1</th>\n      <td>4.9</td>\n      <td>3.0</td>\n      <td>1.4</td>\n      <td>0.2</td>\n      <td>setosa</td>\n    </tr>\n    <tr>\n      <th>2</th>\n      <td>4.7</td>\n      <td>3.2</td>\n      <td>1.3</td>\n      <td>0.2</td>\n      <td>setosa</td>\n    </tr>\n    <tr>\n      <th>3</th>\n      <td>4.6</td>\n      <td>3.1</td>\n      <td>1.5</td>\n      <td>0.2</td>\n      <td>setosa</td>\n    </tr>\n    <tr>\n      <th>4</th>\n      <td>5.0</td>\n      <td>3.6</td>\n      <td>1.4</td>\n      <td>0.2</td>\n      <td>setosa</td>\n    </tr>\n  </tbody>\n</table>\n</div>"
          },
          "metadata": {}
        }
      ],
      "execution_count": 4
    },
    {
      "cell_type": "code",
      "source": "### BEGIN SOLUTION\n# Number of rows\nprint(data.shape[0])\n\n# Column names\nprint(data.columns.tolist())\n\n# Data types\nprint(data.dtypes)\n### END SOLUTION",
      "metadata": {
        "trusted": true
      },
      "outputs": [
        {
          "name": "stdout",
          "text": "150\n['sepal_length', 'sepal_width', 'petal_length', 'petal_width', 'species']\nsepal_length    float64\nsepal_width     float64\npetal_length    float64\npetal_width     float64\nspecies          object\ndtype: object\n",
          "output_type": "stream"
        }
      ],
      "execution_count": 5
    },
    {
      "cell_type": "markdown",
      "source": "## Question 2\n\nExamine the species names and note that they all begin with 'Iris-'. Remove this portion of the name so the species name is shorter. \n\n*Hint:* there are multiple ways to do this, but you could use either the [string processing methods](http://pandas.pydata.org/pandas-docs/stable/text.html) or the [apply method](http://pandas.pydata.org/pandas-docs/stable/generated/pandas.Series.apply.html).\n",
      "metadata": {}
    },
    {
      "cell_type": "code",
      "source": "### BEGIN SOLUTION\n# The str method maps the following function to each entry as a string\ndata['species'] = data.species.str.replace('Iris-', '')\n# alternatively\n# data['species'] = data.species.apply(lambda r: r.replace('Iris-', ''))\n\ndata.head()\n### END SOLUTION",
      "metadata": {
        "trusted": true
      },
      "outputs": [
        {
          "execution_count": 6,
          "output_type": "execute_result",
          "data": {
            "text/plain": "   sepal_length  sepal_width  petal_length  petal_width species\n0           5.1          3.5           1.4          0.2  setosa\n1           4.9          3.0           1.4          0.2  setosa\n2           4.7          3.2           1.3          0.2  setosa\n3           4.6          3.1           1.5          0.2  setosa\n4           5.0          3.6           1.4          0.2  setosa",
            "text/html": "<div>\n<style scoped>\n    .dataframe tbody tr th:only-of-type {\n        vertical-align: middle;\n    }\n\n    .dataframe tbody tr th {\n        vertical-align: top;\n    }\n\n    .dataframe thead th {\n        text-align: right;\n    }\n</style>\n<table border=\"1\" class=\"dataframe\">\n  <thead>\n    <tr style=\"text-align: right;\">\n      <th></th>\n      <th>sepal_length</th>\n      <th>sepal_width</th>\n      <th>petal_length</th>\n      <th>petal_width</th>\n      <th>species</th>\n    </tr>\n  </thead>\n  <tbody>\n    <tr>\n      <th>0</th>\n      <td>5.1</td>\n      <td>3.5</td>\n      <td>1.4</td>\n      <td>0.2</td>\n      <td>setosa</td>\n    </tr>\n    <tr>\n      <th>1</th>\n      <td>4.9</td>\n      <td>3.0</td>\n      <td>1.4</td>\n      <td>0.2</td>\n      <td>setosa</td>\n    </tr>\n    <tr>\n      <th>2</th>\n      <td>4.7</td>\n      <td>3.2</td>\n      <td>1.3</td>\n      <td>0.2</td>\n      <td>setosa</td>\n    </tr>\n    <tr>\n      <th>3</th>\n      <td>4.6</td>\n      <td>3.1</td>\n      <td>1.5</td>\n      <td>0.2</td>\n      <td>setosa</td>\n    </tr>\n    <tr>\n      <th>4</th>\n      <td>5.0</td>\n      <td>3.6</td>\n      <td>1.4</td>\n      <td>0.2</td>\n      <td>setosa</td>\n    </tr>\n  </tbody>\n</table>\n</div>"
          },
          "metadata": {}
        }
      ],
      "execution_count": 6
    },
    {
      "cell_type": "markdown",
      "source": "## Question 3\n\nDetermine the following:  \n* The number of each species present. (*Hint:* check out the series `.value_counts` method.)\n* The mean, median, and quantiles and ranges (max-min) for each petal and sepal measurement.\n\n*Hint:* for the last question, the `.describe` method does have median, but it's not called median. It's the *50%* quantile. `.describe` does not have range though, and in order to get the range, you will need to create a new entry in the `.describe` table, which is `max - min`.\n",
      "metadata": {}
    },
    {
      "cell_type": "code",
      "source": "### BEGIN SOLUTION\n# One way to count each species\ndata.species.value_counts()",
      "metadata": {
        "trusted": true
      },
      "outputs": [
        {
          "execution_count": 7,
          "output_type": "execute_result",
          "data": {
            "text/plain": "setosa        50\nversicolor    50\nvirginica     50\nName: species, dtype: int64"
          },
          "metadata": {}
        }
      ],
      "execution_count": 7
    },
    {
      "cell_type": "code",
      "source": "# Select just the rows desired from the 'describe' method and add in the 'median'\nstats_df = data.describe()\nstats_df = data.describe()\nstats_df.loc['range'] = stats_df.loc['max'] - stats_df.loc['min']\n\nout_fields = ['mean','25%','50%','75%', 'range']\nstats_df = stats_df.loc[out_fields]\nstats_df.rename({'50%': 'median'}, inplace=True)\nstats_df\n### END SOLUTION",
      "metadata": {
        "trusted": true
      },
      "outputs": [
        {
          "execution_count": 8,
          "output_type": "execute_result",
          "data": {
            "text/plain": "        sepal_length  sepal_width  petal_length  petal_width\nmean        5.843333        3.054      3.758667     1.198667\n25%         5.100000        2.800      1.600000     0.300000\nmedian      5.800000        3.000      4.350000     1.300000\n75%         6.400000        3.300      5.100000     1.800000\nrange       3.600000        2.400      5.900000     2.400000",
            "text/html": "<div>\n<style scoped>\n    .dataframe tbody tr th:only-of-type {\n        vertical-align: middle;\n    }\n\n    .dataframe tbody tr th {\n        vertical-align: top;\n    }\n\n    .dataframe thead th {\n        text-align: right;\n    }\n</style>\n<table border=\"1\" class=\"dataframe\">\n  <thead>\n    <tr style=\"text-align: right;\">\n      <th></th>\n      <th>sepal_length</th>\n      <th>sepal_width</th>\n      <th>petal_length</th>\n      <th>petal_width</th>\n    </tr>\n  </thead>\n  <tbody>\n    <tr>\n      <th>mean</th>\n      <td>5.843333</td>\n      <td>3.054</td>\n      <td>3.758667</td>\n      <td>1.198667</td>\n    </tr>\n    <tr>\n      <th>25%</th>\n      <td>5.100000</td>\n      <td>2.800</td>\n      <td>1.600000</td>\n      <td>0.300000</td>\n    </tr>\n    <tr>\n      <th>median</th>\n      <td>5.800000</td>\n      <td>3.000</td>\n      <td>4.350000</td>\n      <td>1.300000</td>\n    </tr>\n    <tr>\n      <th>75%</th>\n      <td>6.400000</td>\n      <td>3.300</td>\n      <td>5.100000</td>\n      <td>1.800000</td>\n    </tr>\n    <tr>\n      <th>range</th>\n      <td>3.600000</td>\n      <td>2.400</td>\n      <td>5.900000</td>\n      <td>2.400000</td>\n    </tr>\n  </tbody>\n</table>\n</div>"
          },
          "metadata": {}
        }
      ],
      "execution_count": 8
    },
    {
      "cell_type": "markdown",
      "source": "## Question 4\n\nCalculate the following **for each species** in a separate dataframe:\n\n* The mean of each measurement (sepal_length, sepal_width, petal_length, and petal_width).\n* The median of each of these measurements.\n\n*Hint:* you may want to use Pandas [`groupby` method](http://pandas.pydata.org/pandas-docs/stable/generated/pandas.DataFrame.groupby.html) to group by species before calculating the statistic.\n\nIf you finish both of these, try calculating both statistics (mean and median) in a single table (i.e. with a single groupby call). See the section of the Pandas documentation on [applying multiple functions at once](http://pandas.pydata.org/pandas-docs/stable/groupby.html#applying-multiple-functions-at-once) for a hint.\n",
      "metadata": {}
    },
    {
      "cell_type": "code",
      "source": "### BEGIN SOLUTION\n# The mean calculation\ndata.groupby('species').mean()",
      "metadata": {
        "trusted": true
      },
      "outputs": [
        {
          "execution_count": 9,
          "output_type": "execute_result",
          "data": {
            "text/plain": "            sepal_length  sepal_width  petal_length  petal_width\nspecies                                                         \nsetosa             5.006        3.418         1.464        0.244\nversicolor         5.936        2.770         4.260        1.326\nvirginica          6.588        2.974         5.552        2.026",
            "text/html": "<div>\n<style scoped>\n    .dataframe tbody tr th:only-of-type {\n        vertical-align: middle;\n    }\n\n    .dataframe tbody tr th {\n        vertical-align: top;\n    }\n\n    .dataframe thead th {\n        text-align: right;\n    }\n</style>\n<table border=\"1\" class=\"dataframe\">\n  <thead>\n    <tr style=\"text-align: right;\">\n      <th></th>\n      <th>sepal_length</th>\n      <th>sepal_width</th>\n      <th>petal_length</th>\n      <th>petal_width</th>\n    </tr>\n    <tr>\n      <th>species</th>\n      <th></th>\n      <th></th>\n      <th></th>\n      <th></th>\n    </tr>\n  </thead>\n  <tbody>\n    <tr>\n      <th>setosa</th>\n      <td>5.006</td>\n      <td>3.418</td>\n      <td>1.464</td>\n      <td>0.244</td>\n    </tr>\n    <tr>\n      <th>versicolor</th>\n      <td>5.936</td>\n      <td>2.770</td>\n      <td>4.260</td>\n      <td>1.326</td>\n    </tr>\n    <tr>\n      <th>virginica</th>\n      <td>6.588</td>\n      <td>2.974</td>\n      <td>5.552</td>\n      <td>2.026</td>\n    </tr>\n  </tbody>\n</table>\n</div>"
          },
          "metadata": {}
        }
      ],
      "execution_count": 9
    },
    {
      "cell_type": "code",
      "source": "# The median calculation\ndata.groupby('species').median()",
      "metadata": {
        "trusted": true
      },
      "outputs": [
        {
          "execution_count": 10,
          "output_type": "execute_result",
          "data": {
            "text/plain": "            sepal_length  sepal_width  petal_length  petal_width\nspecies                                                         \nsetosa               5.0          3.4          1.50          0.2\nversicolor           5.9          2.8          4.35          1.3\nvirginica            6.5          3.0          5.55          2.0",
            "text/html": "<div>\n<style scoped>\n    .dataframe tbody tr th:only-of-type {\n        vertical-align: middle;\n    }\n\n    .dataframe tbody tr th {\n        vertical-align: top;\n    }\n\n    .dataframe thead th {\n        text-align: right;\n    }\n</style>\n<table border=\"1\" class=\"dataframe\">\n  <thead>\n    <tr style=\"text-align: right;\">\n      <th></th>\n      <th>sepal_length</th>\n      <th>sepal_width</th>\n      <th>petal_length</th>\n      <th>petal_width</th>\n    </tr>\n    <tr>\n      <th>species</th>\n      <th></th>\n      <th></th>\n      <th></th>\n      <th></th>\n    </tr>\n  </thead>\n  <tbody>\n    <tr>\n      <th>setosa</th>\n      <td>5.0</td>\n      <td>3.4</td>\n      <td>1.50</td>\n      <td>0.2</td>\n    </tr>\n    <tr>\n      <th>versicolor</th>\n      <td>5.9</td>\n      <td>2.8</td>\n      <td>4.35</td>\n      <td>1.3</td>\n    </tr>\n    <tr>\n      <th>virginica</th>\n      <td>6.5</td>\n      <td>3.0</td>\n      <td>5.55</td>\n      <td>2.0</td>\n    </tr>\n  </tbody>\n</table>\n</div>"
          },
          "metadata": {}
        }
      ],
      "execution_count": 10
    },
    {
      "cell_type": "code",
      "source": "# applying multiple functions at once - 2 methods\n\ndata.groupby('species').agg(['mean', 'median'])  # passing a list of recognized strings\ndata.groupby('species').agg([np.mean, np.median])  # passing a list of explicit aggregation functions",
      "metadata": {
        "trusted": true
      },
      "outputs": [
        {
          "execution_count": 11,
          "output_type": "execute_result",
          "data": {
            "text/plain": "           sepal_length        sepal_width        petal_length         \\\n                   mean median        mean median         mean median   \nspecies                                                                 \nsetosa            5.006    5.0       3.418    3.4        1.464   1.50   \nversicolor        5.936    5.9       2.770    2.8        4.260   4.35   \nvirginica         6.588    6.5       2.974    3.0        5.552   5.55   \n\n           petal_width         \n                  mean median  \nspecies                        \nsetosa           0.244    0.2  \nversicolor       1.326    1.3  \nvirginica        2.026    2.0  ",
            "text/html": "<div>\n<style scoped>\n    .dataframe tbody tr th:only-of-type {\n        vertical-align: middle;\n    }\n\n    .dataframe tbody tr th {\n        vertical-align: top;\n    }\n\n    .dataframe thead tr th {\n        text-align: left;\n    }\n\n    .dataframe thead tr:last-of-type th {\n        text-align: right;\n    }\n</style>\n<table border=\"1\" class=\"dataframe\">\n  <thead>\n    <tr>\n      <th></th>\n      <th colspan=\"2\" halign=\"left\">sepal_length</th>\n      <th colspan=\"2\" halign=\"left\">sepal_width</th>\n      <th colspan=\"2\" halign=\"left\">petal_length</th>\n      <th colspan=\"2\" halign=\"left\">petal_width</th>\n    </tr>\n    <tr>\n      <th></th>\n      <th>mean</th>\n      <th>median</th>\n      <th>mean</th>\n      <th>median</th>\n      <th>mean</th>\n      <th>median</th>\n      <th>mean</th>\n      <th>median</th>\n    </tr>\n    <tr>\n      <th>species</th>\n      <th></th>\n      <th></th>\n      <th></th>\n      <th></th>\n      <th></th>\n      <th></th>\n      <th></th>\n      <th></th>\n    </tr>\n  </thead>\n  <tbody>\n    <tr>\n      <th>setosa</th>\n      <td>5.006</td>\n      <td>5.0</td>\n      <td>3.418</td>\n      <td>3.4</td>\n      <td>1.464</td>\n      <td>1.50</td>\n      <td>0.244</td>\n      <td>0.2</td>\n    </tr>\n    <tr>\n      <th>versicolor</th>\n      <td>5.936</td>\n      <td>5.9</td>\n      <td>2.770</td>\n      <td>2.8</td>\n      <td>4.260</td>\n      <td>4.35</td>\n      <td>1.326</td>\n      <td>1.3</td>\n    </tr>\n    <tr>\n      <th>virginica</th>\n      <td>6.588</td>\n      <td>6.5</td>\n      <td>2.974</td>\n      <td>3.0</td>\n      <td>5.552</td>\n      <td>5.55</td>\n      <td>2.026</td>\n      <td>2.0</td>\n    </tr>\n  </tbody>\n</table>\n</div>"
          },
          "metadata": {}
        }
      ],
      "execution_count": 11
    },
    {
      "cell_type": "code",
      "source": "# If certain fields need to be aggregated differently, we can do:\nfrom pprint import pprint\n\nagg_dict = {field: ['mean', 'median'] for field in data.columns if field != 'species'}\nagg_dict['petal_length'] = 'max'\npprint(agg_dict)\ndata.groupby('species').agg(agg_dict)\n### END SOLUTION",
      "metadata": {},
      "outputs": [],
      "execution_count": null
    },
    {
      "cell_type": "markdown",
      "source": "## Question 5\n\nMake a scatter plot of `sepal_length` vs `sepal_width` using Matplotlib. Label the axes and give the plot a title.\n",
      "metadata": {}
    },
    {
      "cell_type": "code",
      "source": "### BEGIN SOLUTION\nimport matplotlib.pyplot as plt\n%matplotlib inline",
      "metadata": {},
      "outputs": [],
      "execution_count": null
    },
    {
      "cell_type": "code",
      "source": "# A simple scatter plot with Matplotlib\nax = plt.axes()\n\nax.scatter(data.sepal_length, data.sepal_width)\n\n# Label the axes\nax.set(xlabel='Sepal Length (cm)',\n       ylabel='Sepal Width (cm)',\n       title='Sepal Length vs Width');\n### END SOLUTION",
      "metadata": {},
      "outputs": [],
      "execution_count": null
    },
    {
      "cell_type": "markdown",
      "source": "## Question 6\n\nMake a histogram of any one of the four features. Label axes and title it as appropriate. \n",
      "metadata": {}
    },
    {
      "cell_type": "code",
      "source": "### BEGIN SOLUTION\n# Using Matplotlib's plotting functionality\nax = plt.axes()\nax.hist(data.petal_length, bins=25);\n\nax.set(xlabel='Petal Length (cm)', \n       ylabel='Frequency',\n       title='Distribution of Petal Lengths');",
      "metadata": {},
      "outputs": [],
      "execution_count": null
    },
    {
      "cell_type": "code",
      "source": "# Alternatively using Pandas plotting functionality\nax = data.petal_length.plot.hist(bins=25)\n\nax.set(xlabel='Petal Length (cm)', \n       ylabel='Frequency',\n       title='Distribution of Petal Lengths');\n### END SOLUTION",
      "metadata": {},
      "outputs": [],
      "execution_count": null
    },
    {
      "cell_type": "markdown",
      "source": "## Question 7\n\nNow create a single plot with histograms for each feature (`petal_width`, `petal_length`, `sepal_width`, `sepal_length`) overlayed. If you have time, next try to create four individual histogram plots in a single figure, where each plot contains one feature.\n\nFor some hints on how to do this with Pandas plotting methods, check out the [visualization guide](http://pandas.pydata.org/pandas-docs/version/0.18.1/visualization.html) for Pandas.\n",
      "metadata": {}
    },
    {
      "cell_type": "code",
      "source": "import seaborn as sns\nsns.set_context('notebook')\n### BEGIN SOLUTION\n# This uses the `.plot.hist` method\nax = data.plot.hist(bins=25, alpha=0.5)\nax.set_xlabel('Size (cm)');",
      "metadata": {},
      "outputs": [],
      "execution_count": null
    },
    {
      "cell_type": "code",
      "source": "# To create four separate plots, use Pandas `.hist` method\naxList = data.hist(bins=25)\n\n# Add some x- and y- labels to first column and last row\nfor ax in axList.flatten():\n    if ax.is_last_row():\n        ax.set_xlabel('Size (cm)')\n        \n    if ax.is_first_col():\n        ax.set_ylabel('Frequency')\n### END SOLUTION",
      "metadata": {},
      "outputs": [],
      "execution_count": null
    },
    {
      "cell_type": "markdown",
      "source": "## Question 8\n\nUsing Pandas, make a boxplot of each petal and sepal measurement. Here is the documentation for [Pandas boxplot method](http://pandas.pydata.org/pandas-docs/version/0.18.1/visualization.html#visualization-box).\n",
      "metadata": {}
    },
    {
      "cell_type": "code",
      "source": "### BEGIN SOLUTION\n# Here we have four separate plots\ndata.boxplot(by='species');\n### END SOLUTION",
      "metadata": {},
      "outputs": [],
      "execution_count": null
    },
    {
      "cell_type": "markdown",
      "source": "## Question 9\n\nNow make a single boxplot where the features are separated in the x-axis and species are colored with different hues. \n\n*Hint:* you may want to check the documentation for [Seaborn boxplots](http://seaborn.pydata.org/generated/seaborn.boxplot.html). \n\nAlso note that Seaborn is very picky about data format--for this plot to work, the input dataframe will need to be manipulated so that each row contains a single data point (a species, a measurement type, and the measurement value). Check out Pandas [stack](http://pandas.pydata.org/pandas-docs/stable/generated/pandas.DataFrame.stack.html) method as a starting place.\n\nHere is an example of a data format that will work:\n\n|   | species | measurement  | size |\n| - | ------- | ------------ | ---- |\n| 0\t| setosa  | sepal_length | 5.1  |\n| 1\t| setosa  | sepal_width  | 3.5  |\n",
      "metadata": {}
    },
    {
      "cell_type": "code",
      "source": "### BEGIN SOLUTION\n# First we have to reshape the data so there is \n# only a single measurement in each column\n\nplot_data = (data\n             .set_index('species')\n             .stack()\n             .to_frame()\n             .reset_index()\n             .rename(columns={0:'size', 'level_1':'measurement'})\n            )\n\nplot_data.head()\n### END SOLUTION",
      "metadata": {},
      "outputs": [],
      "execution_count": null
    },
    {
      "cell_type": "code",
      "source": "### BEGIN SOLUTION\n# Now plot the dataframe from above using Seaborn\n\nsns.set_style('white')\nsns.set_context('notebook')\nsns.set_palette('dark')\n\nf = plt.figure(figsize=(6,4))\nsns.boxplot(x='measurement', y='size', \n            hue='species', data=plot_data);\n### END SOLUTION",
      "metadata": {},
      "outputs": [],
      "execution_count": null
    },
    {
      "cell_type": "markdown",
      "source": "## Question 10\n\nMake a [pairplot](http://seaborn.pydata.org/generated/seaborn.pairplot.html) with Seaborn to examine the correlation between each of the measurements.\n\n*Hint:* this plot may look complicated, but it is actually only a single line of code. This is the power of Seaborn and dataframe-aware plotting! See the lecture notes for reference.\n",
      "metadata": {}
    },
    {
      "cell_type": "code",
      "source": "### BEGIN SOLUTION\nsns.set_context('talk')\nsns.pairplot(data, hue='species');\n### END SOLUTION",
      "metadata": {},
      "outputs": [],
      "execution_count": null
    },
    {
      "cell_type": "markdown",
      "source": "---\n### Machine Learning Foundation (C) 2020 IBM Corporation\n",
      "metadata": {}
    }
  ]
}